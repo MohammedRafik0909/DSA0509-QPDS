{
  "nbformat": 4,
  "nbformat_minor": 0,
  "metadata": {
    "colab": {
      "provenance": [],
      "authorship_tag": "ABX9TyNaXPAcGVDCzd6NRv6oUbFY",
      "include_colab_link": true
    },
    "kernelspec": {
      "name": "python3",
      "display_name": "Python 3"
    },
    "language_info": {
      "name": "python"
    }
  },
  "cells": [
    {
      "cell_type": "markdown",
      "metadata": {
        "id": "view-in-github",
        "colab_type": "text"
      },
      "source": [
        "<a href=\"https://colab.research.google.com/github/MohammedRafik0909/DSA0509-QPDS/blob/main/12.%20black%20bg%20and%20yellow%20font.ipynb\" target=\"_parent\"><img src=\"https://colab.research.google.com/assets/colab-badge.svg\" alt=\"Open In Colab\"/></a>"
      ]
    },
    {
      "cell_type": "code",
      "execution_count": 1,
      "metadata": {
        "colab": {
          "base_uri": "https://localhost:8080/",
          "height": 363
        },
        "id": "5FQKfS49VNZ6",
        "outputId": "18c35857-3f37-414c-8ed2-e901e535adf2"
      },
      "outputs": [
        {
          "output_type": "execute_result",
          "data": {
            "text/plain": [
              "<pandas.io.formats.style.Styler at 0x79f8001d3fd0>"
            ],
            "text/html": [
              "<style type=\"text/css\">\n",
              "#T_fecff_row0_col0, #T_fecff_row0_col1, #T_fecff_row0_col2, #T_fecff_row0_col3, #T_fecff_row1_col0, #T_fecff_row1_col1, #T_fecff_row1_col2, #T_fecff_row1_col3, #T_fecff_row2_col0, #T_fecff_row2_col1, #T_fecff_row2_col2, #T_fecff_row2_col3, #T_fecff_row3_col0, #T_fecff_row3_col1, #T_fecff_row3_col2, #T_fecff_row3_col3, #T_fecff_row4_col0, #T_fecff_row4_col1, #T_fecff_row4_col2, #T_fecff_row4_col3, #T_fecff_row5_col0, #T_fecff_row5_col1, #T_fecff_row5_col2, #T_fecff_row5_col3, #T_fecff_row6_col0, #T_fecff_row6_col1, #T_fecff_row6_col2, #T_fecff_row6_col3, #T_fecff_row7_col0, #T_fecff_row7_col1, #T_fecff_row7_col2, #T_fecff_row7_col3, #T_fecff_row8_col0, #T_fecff_row8_col1, #T_fecff_row8_col2, #T_fecff_row8_col3, #T_fecff_row9_col0, #T_fecff_row9_col1, #T_fecff_row9_col2, #T_fecff_row9_col3 {\n",
              "  background-color: black;\n",
              "  color: yellow;\n",
              "}\n",
              "</style>\n",
              "<table id=\"T_fecff\" class=\"dataframe\">\n",
              "  <thead>\n",
              "    <tr>\n",
              "      <th class=\"blank level0\" >&nbsp;</th>\n",
              "      <th id=\"T_fecff_level0_col0\" class=\"col_heading level0 col0\" >Column1</th>\n",
              "      <th id=\"T_fecff_level0_col1\" class=\"col_heading level0 col1\" >Column2</th>\n",
              "      <th id=\"T_fecff_level0_col2\" class=\"col_heading level0 col2\" >Column3</th>\n",
              "      <th id=\"T_fecff_level0_col3\" class=\"col_heading level0 col3\" >Column4</th>\n",
              "    </tr>\n",
              "  </thead>\n",
              "  <tbody>\n",
              "    <tr>\n",
              "      <th id=\"T_fecff_level0_row0\" class=\"row_heading level0 row0\" >0</th>\n",
              "      <td id=\"T_fecff_row0_col0\" class=\"data row0 col0\" >-0.717581</td>\n",
              "      <td id=\"T_fecff_row0_col1\" class=\"data row0 col1\" >-0.055673</td>\n",
              "      <td id=\"T_fecff_row0_col2\" class=\"data row0 col2\" >-0.074791</td>\n",
              "      <td id=\"T_fecff_row0_col3\" class=\"data row0 col3\" >0.676989</td>\n",
              "    </tr>\n",
              "    <tr>\n",
              "      <th id=\"T_fecff_level0_row1\" class=\"row_heading level0 row1\" >1</th>\n",
              "      <td id=\"T_fecff_row1_col0\" class=\"data row1 col0\" >-0.342622</td>\n",
              "      <td id=\"T_fecff_row1_col1\" class=\"data row1 col1\" >1.404856</td>\n",
              "      <td id=\"T_fecff_row1_col2\" class=\"data row1 col2\" >-1.779078</td>\n",
              "      <td id=\"T_fecff_row1_col3\" class=\"data row1 col3\" >1.401383</td>\n",
              "    </tr>\n",
              "    <tr>\n",
              "      <th id=\"T_fecff_level0_row2\" class=\"row_heading level0 row2\" >2</th>\n",
              "      <td id=\"T_fecff_row2_col0\" class=\"data row2 col0\" >-0.203950</td>\n",
              "      <td id=\"T_fecff_row2_col1\" class=\"data row2 col1\" >-0.425213</td>\n",
              "      <td id=\"T_fecff_row2_col2\" class=\"data row2 col2\" >0.032322</td>\n",
              "      <td id=\"T_fecff_row2_col3\" class=\"data row2 col3\" >-0.209467</td>\n",
              "    </tr>\n",
              "    <tr>\n",
              "      <th id=\"T_fecff_level0_row3\" class=\"row_heading level0 row3\" >3</th>\n",
              "      <td id=\"T_fecff_row3_col0\" class=\"data row3 col0\" >0.208496</td>\n",
              "      <td id=\"T_fecff_row3_col1\" class=\"data row3 col1\" >0.129196</td>\n",
              "      <td id=\"T_fecff_row3_col2\" class=\"data row3 col2\" >0.364113</td>\n",
              "      <td id=\"T_fecff_row3_col3\" class=\"data row3 col3\" >0.682908</td>\n",
              "    </tr>\n",
              "    <tr>\n",
              "      <th id=\"T_fecff_level0_row4\" class=\"row_heading level0 row4\" >4</th>\n",
              "      <td id=\"T_fecff_row4_col0\" class=\"data row4 col0\" >-1.785160</td>\n",
              "      <td id=\"T_fecff_row4_col1\" class=\"data row4 col1\" >-0.666205</td>\n",
              "      <td id=\"T_fecff_row4_col2\" class=\"data row4 col2\" >0.940135</td>\n",
              "      <td id=\"T_fecff_row4_col3\" class=\"data row4 col3\" >0.535785</td>\n",
              "    </tr>\n",
              "    <tr>\n",
              "      <th id=\"T_fecff_level0_row5\" class=\"row_heading level0 row5\" >5</th>\n",
              "      <td id=\"T_fecff_row5_col0\" class=\"data row5 col0\" >0.776866</td>\n",
              "      <td id=\"T_fecff_row5_col1\" class=\"data row5 col1\" >-0.558455</td>\n",
              "      <td id=\"T_fecff_row5_col2\" class=\"data row5 col2\" >0.345020</td>\n",
              "      <td id=\"T_fecff_row5_col3\" class=\"data row5 col3\" >0.168678</td>\n",
              "    </tr>\n",
              "    <tr>\n",
              "      <th id=\"T_fecff_level0_row6\" class=\"row_heading level0 row6\" >6</th>\n",
              "      <td id=\"T_fecff_row6_col0\" class=\"data row6 col0\" >0.922296</td>\n",
              "      <td id=\"T_fecff_row6_col1\" class=\"data row6 col1\" >1.244780</td>\n",
              "      <td id=\"T_fecff_row6_col2\" class=\"data row6 col2\" >-0.567162</td>\n",
              "      <td id=\"T_fecff_row6_col3\" class=\"data row6 col3\" >0.864817</td>\n",
              "    </tr>\n",
              "    <tr>\n",
              "      <th id=\"T_fecff_level0_row7\" class=\"row_heading level0 row7\" >7</th>\n",
              "      <td id=\"T_fecff_row7_col0\" class=\"data row7 col0\" >0.058439</td>\n",
              "      <td id=\"T_fecff_row7_col1\" class=\"data row7 col1\" >0.593593</td>\n",
              "      <td id=\"T_fecff_row7_col2\" class=\"data row7 col2\" >-0.322800</td>\n",
              "      <td id=\"T_fecff_row7_col3\" class=\"data row7 col3\" >-0.213966</td>\n",
              "    </tr>\n",
              "    <tr>\n",
              "      <th id=\"T_fecff_level0_row8\" class=\"row_heading level0 row8\" >8</th>\n",
              "      <td id=\"T_fecff_row8_col0\" class=\"data row8 col0\" >-0.231991</td>\n",
              "      <td id=\"T_fecff_row8_col1\" class=\"data row8 col1\" >1.080788</td>\n",
              "      <td id=\"T_fecff_row8_col2\" class=\"data row8 col2\" >-0.090465</td>\n",
              "      <td id=\"T_fecff_row8_col3\" class=\"data row8 col3\" >1.470706</td>\n",
              "    </tr>\n",
              "    <tr>\n",
              "      <th id=\"T_fecff_level0_row9\" class=\"row_heading level0 row9\" >9</th>\n",
              "      <td id=\"T_fecff_row9_col0\" class=\"data row9 col0\" >-0.264467</td>\n",
              "      <td id=\"T_fecff_row9_col1\" class=\"data row9 col1\" >0.415846</td>\n",
              "      <td id=\"T_fecff_row9_col2\" class=\"data row9 col2\" >-0.814644</td>\n",
              "      <td id=\"T_fecff_row9_col3\" class=\"data row9 col3\" >0.841287</td>\n",
              "    </tr>\n",
              "  </tbody>\n",
              "</table>\n"
            ]
          },
          "metadata": {},
          "execution_count": 1
        }
      ],
      "source": [
        "\n",
        "import pandas as pd\n",
        "import numpy as np\n",
        "data = np.random.randn(10, 4)\n",
        "df = pd.DataFrame(data, columns=['Column1', 'Column2', 'Column3', 'Column4'])\n",
        "styled_df = df.style.set_properties(**{'background-color': 'black', 'color': 'yellow'})\n",
        "styled_df"
      ]
    },
    {
      "cell_type": "code",
      "source": [],
      "metadata": {
        "id": "pPKYGe8YVPAW"
      },
      "execution_count": null,
      "outputs": []
    }
  ]
}